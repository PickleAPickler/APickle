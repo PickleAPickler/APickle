{
 "cells": [
  {
   "cell_type": "markdown",
   "metadata": {},
   "source": [
    "# Netflix Data Project"
   ]
  },
  {
   "cell_type": "code",
   "execution_count": null,
   "metadata": {},
   "outputs": [],
   "source": [
    " # following this: https://www.dataquest.io/blog/python-tutorial-analyze-personal-netflix-data/"
   ]
  },
  {
   "cell_type": "code",
   "execution_count": 4,
   "metadata": {},
   "outputs": [],
   "source": [
    "import pandas as pd\n",
    "\n",
    "df = pd.read_csv('ViewingActivity.csv')"
   ]
  },
  {
   "cell_type": "code",
   "execution_count": 5,
   "metadata": {},
   "outputs": [
    {
     "data": {
      "text/plain": [
       "(2239, 10)"
      ]
     },
     "execution_count": 5,
     "metadata": {},
     "output_type": "execute_result"
    }
   ],
   "source": [
    "\n",
    "df.shape\n",
    "\n"
   ]
  },
  {
   "cell_type": "code",
   "execution_count": 19,
   "metadata": {},
   "outputs": [
    {
     "data": {
      "text/html": [
       "<div>\n",
       "<style scoped>\n",
       "    .dataframe tbody tr th:only-of-type {\n",
       "        vertical-align: middle;\n",
       "    }\n",
       "\n",
       "    .dataframe tbody tr th {\n",
       "        vertical-align: top;\n",
       "    }\n",
       "\n",
       "    .dataframe thead th {\n",
       "        text-align: right;\n",
       "    }\n",
       "</style>\n",
       "<table border=\"1\" class=\"dataframe\">\n",
       "  <thead>\n",
       "    <tr style=\"text-align: right;\">\n",
       "      <th></th>\n",
       "      <th>Start Time</th>\n",
       "      <th>Duration</th>\n",
       "      <th>Title</th>\n",
       "    </tr>\n",
       "  </thead>\n",
       "  <tbody>\n",
       "    <tr>\n",
       "      <th>0</th>\n",
       "      <td>2025-01-12 19:40:26+00:00</td>\n",
       "      <td>0 days 01:04:24</td>\n",
       "      <td>Cocaine Bear</td>\n",
       "    </tr>\n",
       "    <tr>\n",
       "      <th>1</th>\n",
       "      <td>2025-01-12 19:40:13+00:00</td>\n",
       "      <td>0 days 00:00:09</td>\n",
       "      <td>Cocaine Bear_hook_03_16x9</td>\n",
       "    </tr>\n",
       "    <tr>\n",
       "      <th>2</th>\n",
       "      <td>2025-01-11 19:41:59+00:00</td>\n",
       "      <td>0 days 00:45:15</td>\n",
       "      <td>Blood &amp; Gold</td>\n",
       "    </tr>\n",
       "    <tr>\n",
       "      <th>3</th>\n",
       "      <td>2025-01-11 19:41:04+00:00</td>\n",
       "      <td>0 days 00:00:07</td>\n",
       "      <td>Capone_hook_02_16x9</td>\n",
       "    </tr>\n",
       "    <tr>\n",
       "      <th>4</th>\n",
       "      <td>2025-01-11 19:40:48+00:00</td>\n",
       "      <td>0 days 00:00:06</td>\n",
       "      <td>Drive_hook_07_16x9</td>\n",
       "    </tr>\n",
       "  </tbody>\n",
       "</table>\n",
       "</div>"
      ],
      "text/plain": [
       "                 Start Time        Duration                      Title\n",
       "0 2025-01-12 19:40:26+00:00 0 days 01:04:24               Cocaine Bear\n",
       "1 2025-01-12 19:40:13+00:00 0 days 00:00:09  Cocaine Bear_hook_03_16x9\n",
       "2 2025-01-11 19:41:59+00:00 0 days 00:45:15               Blood & Gold\n",
       "3 2025-01-11 19:41:04+00:00 0 days 00:00:07        Capone_hook_02_16x9\n",
       "4 2025-01-11 19:40:48+00:00 0 days 00:00:06         Drive_hook_07_16x9"
      ]
     },
     "execution_count": 19,
     "metadata": {},
     "output_type": "execute_result"
    }
   ],
   "source": [
    "df.head()"
   ]
  },
  {
   "cell_type": "code",
   "execution_count": 7,
   "metadata": {},
   "outputs": [
    {
     "data": {
      "text/html": [
       "<div>\n",
       "<style scoped>\n",
       "    .dataframe tbody tr th:only-of-type {\n",
       "        vertical-align: middle;\n",
       "    }\n",
       "\n",
       "    .dataframe tbody tr th {\n",
       "        vertical-align: top;\n",
       "    }\n",
       "\n",
       "    .dataframe thead th {\n",
       "        text-align: right;\n",
       "    }\n",
       "</style>\n",
       "<table border=\"1\" class=\"dataframe\">\n",
       "  <thead>\n",
       "    <tr style=\"text-align: right;\">\n",
       "      <th></th>\n",
       "      <th>Start Time</th>\n",
       "      <th>Duration</th>\n",
       "      <th>Title</th>\n",
       "    </tr>\n",
       "  </thead>\n",
       "  <tbody>\n",
       "    <tr>\n",
       "      <th>0</th>\n",
       "      <td>2025-01-12 19:40:26</td>\n",
       "      <td>01:04:24</td>\n",
       "      <td>Cocaine Bear</td>\n",
       "    </tr>\n",
       "  </tbody>\n",
       "</table>\n",
       "</div>"
      ],
      "text/plain": [
       "            Start Time  Duration         Title\n",
       "0  2025-01-12 19:40:26  01:04:24  Cocaine Bear"
      ]
     },
     "execution_count": 7,
     "metadata": {},
     "output_type": "execute_result"
    }
   ],
   "source": [
    "# Dropping unnecessary columns\n",
    "\n",
    "\n",
    "df = df.drop(['Profile Name','Attributes', 'Supplemental Video Type', 'Device Type','Bookmark', 'Latest Bookmark', 'Country'], axis=1)\n",
    "\n",
    "df.head(1)"
   ]
  },
  {
   "cell_type": "code",
   "execution_count": 8,
   "metadata": {},
   "outputs": [
    {
     "data": {
      "text/plain": [
       "Start Time    object\n",
       "Duration      object\n",
       "Title         object\n",
       "dtype: object"
      ]
     },
     "execution_count": 8,
     "metadata": {},
     "output_type": "execute_result"
    }
   ],
   "source": [
    "# Converting Strngs to Datetime and Timedelta in Pandas\n",
    "\n",
    "df.dtypes"
   ]
  },
  {
   "cell_type": "code",
   "execution_count": 9,
   "metadata": {},
   "outputs": [
    {
     "data": {
      "text/plain": [
       "Start Time    datetime64[ns, UTC]\n",
       "Duration                   object\n",
       "Title                      object\n",
       "dtype: object"
      ]
     },
     "execution_count": 9,
     "metadata": {},
     "output_type": "execute_result"
    }
   ],
   "source": [
    "\n",
    "df['Start Time'] = pd.to_datetime(df['Start Time'], utc=True)\n",
    "df.dtypes\n",
    "\n",
    "\n",
    "\n"
   ]
  },
  {
   "cell_type": "code",
   "execution_count": 15,
   "metadata": {},
   "outputs": [
    {
     "data": {
      "text/html": [
       "<div>\n",
       "<style scoped>\n",
       "    .dataframe tbody tr th:only-of-type {\n",
       "        vertical-align: middle;\n",
       "    }\n",
       "\n",
       "    .dataframe tbody tr th {\n",
       "        vertical-align: top;\n",
       "    }\n",
       "\n",
       "    .dataframe thead th {\n",
       "        text-align: right;\n",
       "    }\n",
       "</style>\n",
       "<table border=\"1\" class=\"dataframe\">\n",
       "  <thead>\n",
       "    <tr style=\"text-align: right;\">\n",
       "      <th></th>\n",
       "      <th>Start Time</th>\n",
       "      <th>Duration</th>\n",
       "      <th>Title</th>\n",
       "    </tr>\n",
       "  </thead>\n",
       "  <tbody>\n",
       "    <tr>\n",
       "      <th>0</th>\n",
       "      <td>2025-01-12 19:40:26+00:00</td>\n",
       "      <td>01:04:24</td>\n",
       "      <td>Cocaine Bear</td>\n",
       "    </tr>\n",
       "  </tbody>\n",
       "</table>\n",
       "</div>"
      ],
      "text/plain": [
       "                 Start Time  Duration         Title\n",
       "0 2025-01-12 19:40:26+00:00  01:04:24  Cocaine Bear"
      ]
     },
     "execution_count": 15,
     "metadata": {},
     "output_type": "execute_result"
    }
   ],
   "source": [
    "# change the Start Time column into the dataframe's index\n",
    "df = df.set_index('Start Time')\n",
    "\n",
    "# convert from UTC timezone to eastern time\n",
    "df.index.tz_convert('GMT')\n",
    "\n",
    "# reset the index so that Start Time becomes a column again\n",
    "df = df.reset_index()\n",
    "\n",
    "# double check that it worked \n",
    "df.head(1)\n",
    "\n",
    "\n"
   ]
  },
  {
   "cell_type": "code",
   "execution_count": 18,
   "metadata": {},
   "outputs": [
    {
     "data": {
      "text/plain": [
       "Start Time    datetime64[ns, UTC]\n",
       "Duration          timedelta64[ns]\n",
       "Title                      object\n",
       "dtype: object"
      ]
     },
     "execution_count": 18,
     "metadata": {},
     "output_type": "execute_result"
    }
   ],
   "source": [
    "# Convertine Duraion to timedelta\n",
    "\n",
    "df['Duration'] = pd.to_timedelta(df['Duration'])\n",
    "df.dtypes"
   ]
  },
  {
   "cell_type": "markdown",
   "metadata": {},
   "source": [
    "### Filtering strings by Substring in Pandas using str.contains"
   ]
  },
  {
   "cell_type": "code",
   "execution_count": 23,
   "metadata": {},
   "outputs": [],
   "source": [
    "\n",
    "# create a new dataframe called cobra_kai that takes from df \n",
    "# only the rows in which the Title column contains 'Cobra Kai'\n",
    "cobra_kai = df[df['Title'].str.contains('Cobra Kai', regex=False)]"
   ]
  },
  {
   "cell_type": "code",
   "execution_count": 24,
   "metadata": {},
   "outputs": [
    {
     "data": {
      "text/plain": [
       "(94, 3)"
      ]
     },
     "execution_count": 24,
     "metadata": {},
     "output_type": "execute_result"
    }
   ],
   "source": [
    "cobra_kai.shape"
   ]
  },
  {
   "cell_type": "code",
   "execution_count": null,
   "metadata": {},
   "outputs": [],
   "source": []
  },
  {
   "cell_type": "markdown",
   "metadata": {},
   "source": [
    "### Filtering out short durations using timedelta"
   ]
  },
  {
   "cell_type": "code",
   "execution_count": 26,
   "metadata": {},
   "outputs": [
    {
     "data": {
      "text/plain": [
       "(54, 3)"
      ]
     },
     "execution_count": 26,
     "metadata": {},
     "output_type": "execute_result"
    }
   ],
   "source": [
    "# filtering out preview auto-plays\n",
    "\n",
    "cobra_kai = cobra_kai[(cobra_kai['Duration'] > '0 days 00:01:00')]\n",
    "cobra_kai.shape"
   ]
  },
  {
   "cell_type": "markdown",
   "metadata": {},
   "source": [
    "### Analysing the Data"
   ]
  },
  {
   "cell_type": "code",
   "execution_count": 27,
   "metadata": {},
   "outputs": [
    {
     "data": {
      "text/plain": [
       "Timedelta('1 days 02:28:35')"
      ]
     },
     "execution_count": 27,
     "metadata": {},
     "output_type": "execute_result"
    }
   ],
   "source": [
    "# How much time have I spent watching Cobra Kai? \n",
    "\n",
    "cobra_kai['Duration'].sum()"
   ]
  },
  {
   "cell_type": "code",
   "execution_count": 28,
   "metadata": {},
   "outputs": [
    {
     "data": {
      "text/html": [
       "<div>\n",
       "<style scoped>\n",
       "    .dataframe tbody tr th:only-of-type {\n",
       "        vertical-align: middle;\n",
       "    }\n",
       "\n",
       "    .dataframe tbody tr th {\n",
       "        vertical-align: top;\n",
       "    }\n",
       "\n",
       "    .dataframe thead th {\n",
       "        text-align: right;\n",
       "    }\n",
       "</style>\n",
       "<table border=\"1\" class=\"dataframe\">\n",
       "  <thead>\n",
       "    <tr style=\"text-align: right;\">\n",
       "      <th></th>\n",
       "      <th>Start Time</th>\n",
       "      <th>Duration</th>\n",
       "      <th>Title</th>\n",
       "      <th>weekday</th>\n",
       "      <th>hour</th>\n",
       "    </tr>\n",
       "  </thead>\n",
       "  <tbody>\n",
       "    <tr>\n",
       "      <th>44</th>\n",
       "      <td>2024-12-29 20:05:39+00:00</td>\n",
       "      <td>0 days 00:42:46</td>\n",
       "      <td>Cobra Kai: Season 6: Eunjangdo (Episode 10)</td>\n",
       "      <td>6</td>\n",
       "      <td>20</td>\n",
       "    </tr>\n",
       "  </tbody>\n",
       "</table>\n",
       "</div>"
      ],
      "text/plain": [
       "                  Start Time        Duration  \\\n",
       "44 2024-12-29 20:05:39+00:00 0 days 00:42:46   \n",
       "\n",
       "                                          Title  weekday  hour  \n",
       "44  Cobra Kai: Season 6: Eunjangdo (Episode 10)        6    20  "
      ]
     },
     "execution_count": 28,
     "metadata": {},
     "output_type": "execute_result"
    }
   ],
   "source": [
    "# When do I watch Cobra Kai?\n",
    "# Which days of the week?\n",
    "# Which hours of the day? \n",
    "\n",
    "cobra_kai['weekday'] = cobra_kai['Start Time'].dt.weekday\n",
    "cobra_kai['hour'] = cobra_kai['Start Time'].dt.hour\n",
    "\n",
    "cobra_kai.head(1)"
   ]
  },
  {
   "cell_type": "code",
   "execution_count": null,
   "metadata": {},
   "outputs": [],
   "source": [
    "# Get a graph going..."
   ]
  },
  {
   "cell_type": "code",
   "execution_count": 30,
   "metadata": {},
   "outputs": [],
   "source": [
    "%matplotlib inline\n",
    "import matplotlib"
   ]
  },
  {
   "cell_type": "code",
   "execution_count": 32,
   "metadata": {},
   "outputs": [
    {
     "data": {
      "text/plain": [
       "<AxesSubplot:title={'center':'Cobra Kai Episodes Watched by Day'}>"
      ]
     },
     "execution_count": 32,
     "metadata": {},
     "output_type": "execute_result"
    },
    {
     "data": {
      "image/png": "[encoded data removed]",
      "text/plain": [
       "<Figure size 1440x720 with 1 Axes>"
      ]
     },
     "metadata": {
      "needs_background": "light"
     },
     "output_type": "display_data"
    }
   ],
   "source": [
    "# set our categorical and define the order so the days are plotted Monday - Sunday \n",
    "\n",
    "cobra_kai['weekday'] = pd.Categorical(cobra_kai['weekday'], categories=[0,1,2,3,4,5,6], ordered=True)\n",
    "\n",
    "# create kai_by_day and count the rows for each weekday, assigning the result to that variable\n",
    "kai_by_day = cobra_kai['weekday'].value_counts()\n",
    "\n",
    "# sort the index using ot categorical, so that Monday (0) is first, Tuesday (1) is second, etc. \n",
    "kai_by_day = kai_by_day.sort_index()\n",
    "\n",
    "# optional: update the font to make it a touch larger and easier to read\n",
    "matplotlib.rcParams.update({'font.size': 22})\n",
    "\n",
    "# plot office_by_day as a bar chart with the listed size and title\n",
    "kai_by_day.plot(kind='bar', figsize=(20,10), title='Cobra Kai Episodes Watched by Day')"
   ]
  },
  {
   "cell_type": "code",
   "execution_count": 33,
   "metadata": {},
   "outputs": [
    {
     "data": {
      "text/plain": [
       "<AxesSubplot:title={'center':'Cobra Kai Episodes Watched by Hour'}>"
      ]
     },
     "execution_count": 33,
     "metadata": {},
     "output_type": "execute_result"
    },
    {
     "data": {
      "image/png": "[encoded data removed]",
      "text/plain": [
       "<Figure size 1440x720 with 1 Axes>"
      ]
     },
     "metadata": {
      "needs_background": "light"
     },
     "output_type": "display_data"
    }
   ],
   "source": [
    "### What about hours in the day? \n",
    "\n",
    "# set our categorical and define the order so the hours are plotted 0-23\n",
    "\n",
    "cobra_kai['hour'] = pd.Categorical(cobra_kai['hour'], categories=[0,1,2,3,4,5,6,7,8,9,10,11,12,13,14,15,16,17,18,19,20,21,22,23],\n",
    "                                   ordered=True)\n",
    "\n",
    "# create kai_by_hour and count the rows for each hour, assigning the result to that variable\n",
    "kai_by_hour = cobra_kai['hour'].value_counts()\n",
    "\n",
    "# sort the index using our categorical, so that midnight (0) is first, 1 a.m (1) is second, etc. \n",
    "kai_by_hour = kai_by_hour.sort_index()\n",
    "\n",
    "\n",
    "\n",
    "# plot kai_by_hour as a bar chart with the listed size and title\n",
    "kai_by_hour.plot(kind='bar', figsize=(20,10), title='Cobra Kai Episodes Watched by Hour')"
   ]
  },
  {
   "cell_type": "code",
   "execution_count": null,
   "metadata": {},
   "outputs": [],
   "source": []
  },
  {
   "cell_type": "code",
   "execution_count": null,
   "metadata": {},
   "outputs": [],
   "source": []
  }
 ],
 "metadata": {
  "kernelspec": {
   "display_name": "Python 3",
   "language": "python",
   "name": "python3"
  },
  "language_info": {
   "codemirror_mode": {
    "name": "ipython",
    "version": 3
   },
   "file_extension": ".py",
   "mimetype": "text/x-python",
   "name": "python",
   "nbconvert_exporter": "python",
   "pygments_lexer": "ipython3",
   "version": "3.8.5"
  }
 },
 "nbformat": 4,
 "nbformat_minor": 2
}
